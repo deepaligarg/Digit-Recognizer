{
 "cells": [
  {
   "cell_type": "markdown",
   "id": "1cb96fcc",
   "metadata": {},
   "source": [
    "### Digit Recognier with ANN and Hyperparameter tuning with Keras.\n"
   ]
  },
  {
   "cell_type": "markdown",
   "id": "bdd4235b",
   "metadata": {},
   "source": [
    "Each image is 28 pixels in height and 28 pixels in width, for a total of 784 pixels in total. Each pixel has a single pixel-value associated with it, indicating the lightness or darkness of that pixel, with higher numbers meaning darker. This pixel-value is an integer between 0 and 255, inclusive.\n",
    "\n",
    "The training data set, (train.csv), has 785 columns. The first column, called \"label\", is the digit that was drawn by the user. The rest of the columns contain the pixel-values of the associated image."
   ]
  },
  {
   "cell_type": "code",
   "execution_count": 43,
   "id": "8602195f",
   "metadata": {},
   "outputs": [],
   "source": [
    "import numpy as np\n",
    "import pandas as pd\n",
    "import tensorflow as tf\n",
    "from tensorflow import keras\n",
    "from tensorflow.keras import layers"
   ]
  },
  {
   "cell_type": "markdown",
   "id": "1130faa2",
   "metadata": {},
   "source": [
    "#### Data Loading and pre-processing"
   ]
  },
  {
   "cell_type": "code",
   "execution_count": 48,
   "id": "be7d2494",
   "metadata": {},
   "outputs": [],
   "source": [
    "digits= pd.read_csv('train_digit.csv')"
   ]
  },
  {
   "cell_type": "code",
   "execution_count": 49,
   "id": "c079f07d",
   "metadata": {},
   "outputs": [
    {
     "data": {
      "text/html": [
       "<div>\n",
       "<style scoped>\n",
       "    .dataframe tbody tr th:only-of-type {\n",
       "        vertical-align: middle;\n",
       "    }\n",
       "\n",
       "    .dataframe tbody tr th {\n",
       "        vertical-align: top;\n",
       "    }\n",
       "\n",
       "    .dataframe thead th {\n",
       "        text-align: right;\n",
       "    }\n",
       "</style>\n",
       "<table border=\"1\" class=\"dataframe\">\n",
       "  <thead>\n",
       "    <tr style=\"text-align: right;\">\n",
       "      <th></th>\n",
       "      <th>label</th>\n",
       "      <th>pixel0</th>\n",
       "      <th>pixel1</th>\n",
       "      <th>pixel2</th>\n",
       "      <th>pixel3</th>\n",
       "      <th>pixel4</th>\n",
       "      <th>pixel5</th>\n",
       "      <th>pixel6</th>\n",
       "      <th>pixel7</th>\n",
       "      <th>pixel8</th>\n",
       "      <th>...</th>\n",
       "      <th>pixel774</th>\n",
       "      <th>pixel775</th>\n",
       "      <th>pixel776</th>\n",
       "      <th>pixel777</th>\n",
       "      <th>pixel778</th>\n",
       "      <th>pixel779</th>\n",
       "      <th>pixel780</th>\n",
       "      <th>pixel781</th>\n",
       "      <th>pixel782</th>\n",
       "      <th>pixel783</th>\n",
       "    </tr>\n",
       "  </thead>\n",
       "  <tbody>\n",
       "    <tr>\n",
       "      <th>0</th>\n",
       "      <td>1</td>\n",
       "      <td>0</td>\n",
       "      <td>0</td>\n",
       "      <td>0</td>\n",
       "      <td>0</td>\n",
       "      <td>0</td>\n",
       "      <td>0</td>\n",
       "      <td>0</td>\n",
       "      <td>0</td>\n",
       "      <td>0</td>\n",
       "      <td>...</td>\n",
       "      <td>0</td>\n",
       "      <td>0</td>\n",
       "      <td>0</td>\n",
       "      <td>0</td>\n",
       "      <td>0</td>\n",
       "      <td>0</td>\n",
       "      <td>0</td>\n",
       "      <td>0</td>\n",
       "      <td>0</td>\n",
       "      <td>0</td>\n",
       "    </tr>\n",
       "    <tr>\n",
       "      <th>1</th>\n",
       "      <td>0</td>\n",
       "      <td>0</td>\n",
       "      <td>0</td>\n",
       "      <td>0</td>\n",
       "      <td>0</td>\n",
       "      <td>0</td>\n",
       "      <td>0</td>\n",
       "      <td>0</td>\n",
       "      <td>0</td>\n",
       "      <td>0</td>\n",
       "      <td>...</td>\n",
       "      <td>0</td>\n",
       "      <td>0</td>\n",
       "      <td>0</td>\n",
       "      <td>0</td>\n",
       "      <td>0</td>\n",
       "      <td>0</td>\n",
       "      <td>0</td>\n",
       "      <td>0</td>\n",
       "      <td>0</td>\n",
       "      <td>0</td>\n",
       "    </tr>\n",
       "    <tr>\n",
       "      <th>2</th>\n",
       "      <td>1</td>\n",
       "      <td>0</td>\n",
       "      <td>0</td>\n",
       "      <td>0</td>\n",
       "      <td>0</td>\n",
       "      <td>0</td>\n",
       "      <td>0</td>\n",
       "      <td>0</td>\n",
       "      <td>0</td>\n",
       "      <td>0</td>\n",
       "      <td>...</td>\n",
       "      <td>0</td>\n",
       "      <td>0</td>\n",
       "      <td>0</td>\n",
       "      <td>0</td>\n",
       "      <td>0</td>\n",
       "      <td>0</td>\n",
       "      <td>0</td>\n",
       "      <td>0</td>\n",
       "      <td>0</td>\n",
       "      <td>0</td>\n",
       "    </tr>\n",
       "    <tr>\n",
       "      <th>3</th>\n",
       "      <td>4</td>\n",
       "      <td>0</td>\n",
       "      <td>0</td>\n",
       "      <td>0</td>\n",
       "      <td>0</td>\n",
       "      <td>0</td>\n",
       "      <td>0</td>\n",
       "      <td>0</td>\n",
       "      <td>0</td>\n",
       "      <td>0</td>\n",
       "      <td>...</td>\n",
       "      <td>0</td>\n",
       "      <td>0</td>\n",
       "      <td>0</td>\n",
       "      <td>0</td>\n",
       "      <td>0</td>\n",
       "      <td>0</td>\n",
       "      <td>0</td>\n",
       "      <td>0</td>\n",
       "      <td>0</td>\n",
       "      <td>0</td>\n",
       "    </tr>\n",
       "    <tr>\n",
       "      <th>4</th>\n",
       "      <td>0</td>\n",
       "      <td>0</td>\n",
       "      <td>0</td>\n",
       "      <td>0</td>\n",
       "      <td>0</td>\n",
       "      <td>0</td>\n",
       "      <td>0</td>\n",
       "      <td>0</td>\n",
       "      <td>0</td>\n",
       "      <td>0</td>\n",
       "      <td>...</td>\n",
       "      <td>0</td>\n",
       "      <td>0</td>\n",
       "      <td>0</td>\n",
       "      <td>0</td>\n",
       "      <td>0</td>\n",
       "      <td>0</td>\n",
       "      <td>0</td>\n",
       "      <td>0</td>\n",
       "      <td>0</td>\n",
       "      <td>0</td>\n",
       "    </tr>\n",
       "  </tbody>\n",
       "</table>\n",
       "<p>5 rows × 785 columns</p>\n",
       "</div>"
      ],
      "text/plain": [
       "   label  pixel0  pixel1  pixel2  pixel3  pixel4  pixel5  pixel6  pixel7  \\\n",
       "0      1       0       0       0       0       0       0       0       0   \n",
       "1      0       0       0       0       0       0       0       0       0   \n",
       "2      1       0       0       0       0       0       0       0       0   \n",
       "3      4       0       0       0       0       0       0       0       0   \n",
       "4      0       0       0       0       0       0       0       0       0   \n",
       "\n",
       "   pixel8  ...  pixel774  pixel775  pixel776  pixel777  pixel778  pixel779  \\\n",
       "0       0  ...         0         0         0         0         0         0   \n",
       "1       0  ...         0         0         0         0         0         0   \n",
       "2       0  ...         0         0         0         0         0         0   \n",
       "3       0  ...         0         0         0         0         0         0   \n",
       "4       0  ...         0         0         0         0         0         0   \n",
       "\n",
       "   pixel780  pixel781  pixel782  pixel783  \n",
       "0         0         0         0         0  \n",
       "1         0         0         0         0  \n",
       "2         0         0         0         0  \n",
       "3         0         0         0         0  \n",
       "4         0         0         0         0  \n",
       "\n",
       "[5 rows x 785 columns]"
      ]
     },
     "execution_count": 49,
     "metadata": {},
     "output_type": "execute_result"
    }
   ],
   "source": [
    "digits.head()"
   ]
  },
  {
   "cell_type": "markdown",
   "id": "31e96e15",
   "metadata": {},
   "source": [
    "##### Coverting y target variable values into one-hot encoding vectors."
   ]
  },
  {
   "cell_type": "code",
   "execution_count": 53,
   "id": "19a399c3",
   "metadata": {},
   "outputs": [],
   "source": [
    "digits=pd.get_dummies(digits, columns=['label'])"
   ]
  },
  {
   "cell_type": "code",
   "execution_count": 56,
   "id": "77990c9c",
   "metadata": {},
   "outputs": [
    {
     "data": {
      "text/html": [
       "<div>\n",
       "<style scoped>\n",
       "    .dataframe tbody tr th:only-of-type {\n",
       "        vertical-align: middle;\n",
       "    }\n",
       "\n",
       "    .dataframe tbody tr th {\n",
       "        vertical-align: top;\n",
       "    }\n",
       "\n",
       "    .dataframe thead th {\n",
       "        text-align: right;\n",
       "    }\n",
       "</style>\n",
       "<table border=\"1\" class=\"dataframe\">\n",
       "  <thead>\n",
       "    <tr style=\"text-align: right;\">\n",
       "      <th></th>\n",
       "      <th>pixel0</th>\n",
       "      <th>pixel1</th>\n",
       "      <th>pixel2</th>\n",
       "      <th>pixel3</th>\n",
       "      <th>pixel4</th>\n",
       "      <th>pixel5</th>\n",
       "      <th>pixel6</th>\n",
       "      <th>pixel7</th>\n",
       "      <th>pixel8</th>\n",
       "      <th>pixel9</th>\n",
       "      <th>...</th>\n",
       "      <th>label_0</th>\n",
       "      <th>label_1</th>\n",
       "      <th>label_2</th>\n",
       "      <th>label_3</th>\n",
       "      <th>label_4</th>\n",
       "      <th>label_5</th>\n",
       "      <th>label_6</th>\n",
       "      <th>label_7</th>\n",
       "      <th>label_8</th>\n",
       "      <th>label_9</th>\n",
       "    </tr>\n",
       "  </thead>\n",
       "  <tbody>\n",
       "    <tr>\n",
       "      <th>0</th>\n",
       "      <td>0</td>\n",
       "      <td>0</td>\n",
       "      <td>0</td>\n",
       "      <td>0</td>\n",
       "      <td>0</td>\n",
       "      <td>0</td>\n",
       "      <td>0</td>\n",
       "      <td>0</td>\n",
       "      <td>0</td>\n",
       "      <td>0</td>\n",
       "      <td>...</td>\n",
       "      <td>0</td>\n",
       "      <td>1</td>\n",
       "      <td>0</td>\n",
       "      <td>0</td>\n",
       "      <td>0</td>\n",
       "      <td>0</td>\n",
       "      <td>0</td>\n",
       "      <td>0</td>\n",
       "      <td>0</td>\n",
       "      <td>0</td>\n",
       "    </tr>\n",
       "    <tr>\n",
       "      <th>1</th>\n",
       "      <td>0</td>\n",
       "      <td>0</td>\n",
       "      <td>0</td>\n",
       "      <td>0</td>\n",
       "      <td>0</td>\n",
       "      <td>0</td>\n",
       "      <td>0</td>\n",
       "      <td>0</td>\n",
       "      <td>0</td>\n",
       "      <td>0</td>\n",
       "      <td>...</td>\n",
       "      <td>1</td>\n",
       "      <td>0</td>\n",
       "      <td>0</td>\n",
       "      <td>0</td>\n",
       "      <td>0</td>\n",
       "      <td>0</td>\n",
       "      <td>0</td>\n",
       "      <td>0</td>\n",
       "      <td>0</td>\n",
       "      <td>0</td>\n",
       "    </tr>\n",
       "    <tr>\n",
       "      <th>2</th>\n",
       "      <td>0</td>\n",
       "      <td>0</td>\n",
       "      <td>0</td>\n",
       "      <td>0</td>\n",
       "      <td>0</td>\n",
       "      <td>0</td>\n",
       "      <td>0</td>\n",
       "      <td>0</td>\n",
       "      <td>0</td>\n",
       "      <td>0</td>\n",
       "      <td>...</td>\n",
       "      <td>0</td>\n",
       "      <td>1</td>\n",
       "      <td>0</td>\n",
       "      <td>0</td>\n",
       "      <td>0</td>\n",
       "      <td>0</td>\n",
       "      <td>0</td>\n",
       "      <td>0</td>\n",
       "      <td>0</td>\n",
       "      <td>0</td>\n",
       "    </tr>\n",
       "    <tr>\n",
       "      <th>3</th>\n",
       "      <td>0</td>\n",
       "      <td>0</td>\n",
       "      <td>0</td>\n",
       "      <td>0</td>\n",
       "      <td>0</td>\n",
       "      <td>0</td>\n",
       "      <td>0</td>\n",
       "      <td>0</td>\n",
       "      <td>0</td>\n",
       "      <td>0</td>\n",
       "      <td>...</td>\n",
       "      <td>0</td>\n",
       "      <td>0</td>\n",
       "      <td>0</td>\n",
       "      <td>0</td>\n",
       "      <td>1</td>\n",
       "      <td>0</td>\n",
       "      <td>0</td>\n",
       "      <td>0</td>\n",
       "      <td>0</td>\n",
       "      <td>0</td>\n",
       "    </tr>\n",
       "    <tr>\n",
       "      <th>4</th>\n",
       "      <td>0</td>\n",
       "      <td>0</td>\n",
       "      <td>0</td>\n",
       "      <td>0</td>\n",
       "      <td>0</td>\n",
       "      <td>0</td>\n",
       "      <td>0</td>\n",
       "      <td>0</td>\n",
       "      <td>0</td>\n",
       "      <td>0</td>\n",
       "      <td>...</td>\n",
       "      <td>1</td>\n",
       "      <td>0</td>\n",
       "      <td>0</td>\n",
       "      <td>0</td>\n",
       "      <td>0</td>\n",
       "      <td>0</td>\n",
       "      <td>0</td>\n",
       "      <td>0</td>\n",
       "      <td>0</td>\n",
       "      <td>0</td>\n",
       "    </tr>\n",
       "  </tbody>\n",
       "</table>\n",
       "<p>5 rows × 794 columns</p>\n",
       "</div>"
      ],
      "text/plain": [
       "   pixel0  pixel1  pixel2  pixel3  pixel4  pixel5  pixel6  pixel7  pixel8  \\\n",
       "0       0       0       0       0       0       0       0       0       0   \n",
       "1       0       0       0       0       0       0       0       0       0   \n",
       "2       0       0       0       0       0       0       0       0       0   \n",
       "3       0       0       0       0       0       0       0       0       0   \n",
       "4       0       0       0       0       0       0       0       0       0   \n",
       "\n",
       "   pixel9  ...  label_0  label_1  label_2  label_3  label_4  label_5  label_6  \\\n",
       "0       0  ...        0        1        0        0        0        0        0   \n",
       "1       0  ...        1        0        0        0        0        0        0   \n",
       "2       0  ...        0        1        0        0        0        0        0   \n",
       "3       0  ...        0        0        0        0        1        0        0   \n",
       "4       0  ...        1        0        0        0        0        0        0   \n",
       "\n",
       "   label_7  label_8  label_9  \n",
       "0        0        0        0  \n",
       "1        0        0        0  \n",
       "2        0        0        0  \n",
       "3        0        0        0  \n",
       "4        0        0        0  \n",
       "\n",
       "[5 rows x 794 columns]"
      ]
     },
     "execution_count": 56,
     "metadata": {},
     "output_type": "execute_result"
    }
   ],
   "source": [
    "digits.head()"
   ]
  },
  {
   "cell_type": "code",
   "execution_count": 60,
   "id": "4da80b67",
   "metadata": {},
   "outputs": [
    {
     "data": {
      "text/html": [
       "<div>\n",
       "<style scoped>\n",
       "    .dataframe tbody tr th:only-of-type {\n",
       "        vertical-align: middle;\n",
       "    }\n",
       "\n",
       "    .dataframe tbody tr th {\n",
       "        vertical-align: top;\n",
       "    }\n",
       "\n",
       "    .dataframe thead th {\n",
       "        text-align: right;\n",
       "    }\n",
       "</style>\n",
       "<table border=\"1\" class=\"dataframe\">\n",
       "  <thead>\n",
       "    <tr style=\"text-align: right;\">\n",
       "      <th></th>\n",
       "      <th>label_0</th>\n",
       "      <th>label_1</th>\n",
       "      <th>label_2</th>\n",
       "      <th>label_3</th>\n",
       "      <th>label_4</th>\n",
       "      <th>label_5</th>\n",
       "      <th>label_6</th>\n",
       "      <th>label_7</th>\n",
       "      <th>label_8</th>\n",
       "      <th>label_9</th>\n",
       "    </tr>\n",
       "  </thead>\n",
       "  <tbody>\n",
       "    <tr>\n",
       "      <th>0</th>\n",
       "      <td>0</td>\n",
       "      <td>1</td>\n",
       "      <td>0</td>\n",
       "      <td>0</td>\n",
       "      <td>0</td>\n",
       "      <td>0</td>\n",
       "      <td>0</td>\n",
       "      <td>0</td>\n",
       "      <td>0</td>\n",
       "      <td>0</td>\n",
       "    </tr>\n",
       "    <tr>\n",
       "      <th>1</th>\n",
       "      <td>1</td>\n",
       "      <td>0</td>\n",
       "      <td>0</td>\n",
       "      <td>0</td>\n",
       "      <td>0</td>\n",
       "      <td>0</td>\n",
       "      <td>0</td>\n",
       "      <td>0</td>\n",
       "      <td>0</td>\n",
       "      <td>0</td>\n",
       "    </tr>\n",
       "    <tr>\n",
       "      <th>2</th>\n",
       "      <td>0</td>\n",
       "      <td>1</td>\n",
       "      <td>0</td>\n",
       "      <td>0</td>\n",
       "      <td>0</td>\n",
       "      <td>0</td>\n",
       "      <td>0</td>\n",
       "      <td>0</td>\n",
       "      <td>0</td>\n",
       "      <td>0</td>\n",
       "    </tr>\n",
       "    <tr>\n",
       "      <th>3</th>\n",
       "      <td>0</td>\n",
       "      <td>0</td>\n",
       "      <td>0</td>\n",
       "      <td>0</td>\n",
       "      <td>1</td>\n",
       "      <td>0</td>\n",
       "      <td>0</td>\n",
       "      <td>0</td>\n",
       "      <td>0</td>\n",
       "      <td>0</td>\n",
       "    </tr>\n",
       "    <tr>\n",
       "      <th>4</th>\n",
       "      <td>1</td>\n",
       "      <td>0</td>\n",
       "      <td>0</td>\n",
       "      <td>0</td>\n",
       "      <td>0</td>\n",
       "      <td>0</td>\n",
       "      <td>0</td>\n",
       "      <td>0</td>\n",
       "      <td>0</td>\n",
       "      <td>0</td>\n",
       "    </tr>\n",
       "    <tr>\n",
       "      <th>...</th>\n",
       "      <td>...</td>\n",
       "      <td>...</td>\n",
       "      <td>...</td>\n",
       "      <td>...</td>\n",
       "      <td>...</td>\n",
       "      <td>...</td>\n",
       "      <td>...</td>\n",
       "      <td>...</td>\n",
       "      <td>...</td>\n",
       "      <td>...</td>\n",
       "    </tr>\n",
       "    <tr>\n",
       "      <th>41995</th>\n",
       "      <td>1</td>\n",
       "      <td>0</td>\n",
       "      <td>0</td>\n",
       "      <td>0</td>\n",
       "      <td>0</td>\n",
       "      <td>0</td>\n",
       "      <td>0</td>\n",
       "      <td>0</td>\n",
       "      <td>0</td>\n",
       "      <td>0</td>\n",
       "    </tr>\n",
       "    <tr>\n",
       "      <th>41996</th>\n",
       "      <td>0</td>\n",
       "      <td>1</td>\n",
       "      <td>0</td>\n",
       "      <td>0</td>\n",
       "      <td>0</td>\n",
       "      <td>0</td>\n",
       "      <td>0</td>\n",
       "      <td>0</td>\n",
       "      <td>0</td>\n",
       "      <td>0</td>\n",
       "    </tr>\n",
       "    <tr>\n",
       "      <th>41997</th>\n",
       "      <td>0</td>\n",
       "      <td>0</td>\n",
       "      <td>0</td>\n",
       "      <td>0</td>\n",
       "      <td>0</td>\n",
       "      <td>0</td>\n",
       "      <td>0</td>\n",
       "      <td>1</td>\n",
       "      <td>0</td>\n",
       "      <td>0</td>\n",
       "    </tr>\n",
       "    <tr>\n",
       "      <th>41998</th>\n",
       "      <td>0</td>\n",
       "      <td>0</td>\n",
       "      <td>0</td>\n",
       "      <td>0</td>\n",
       "      <td>0</td>\n",
       "      <td>0</td>\n",
       "      <td>1</td>\n",
       "      <td>0</td>\n",
       "      <td>0</td>\n",
       "      <td>0</td>\n",
       "    </tr>\n",
       "    <tr>\n",
       "      <th>41999</th>\n",
       "      <td>0</td>\n",
       "      <td>0</td>\n",
       "      <td>0</td>\n",
       "      <td>0</td>\n",
       "      <td>0</td>\n",
       "      <td>0</td>\n",
       "      <td>0</td>\n",
       "      <td>0</td>\n",
       "      <td>0</td>\n",
       "      <td>1</td>\n",
       "    </tr>\n",
       "  </tbody>\n",
       "</table>\n",
       "<p>42000 rows × 10 columns</p>\n",
       "</div>"
      ],
      "text/plain": [
       "       label_0  label_1  label_2  label_3  label_4  label_5  label_6  label_7  \\\n",
       "0            0        1        0        0        0        0        0        0   \n",
       "1            1        0        0        0        0        0        0        0   \n",
       "2            0        1        0        0        0        0        0        0   \n",
       "3            0        0        0        0        1        0        0        0   \n",
       "4            1        0        0        0        0        0        0        0   \n",
       "...        ...      ...      ...      ...      ...      ...      ...      ...   \n",
       "41995        1        0        0        0        0        0        0        0   \n",
       "41996        0        1        0        0        0        0        0        0   \n",
       "41997        0        0        0        0        0        0        0        1   \n",
       "41998        0        0        0        0        0        0        1        0   \n",
       "41999        0        0        0        0        0        0        0        0   \n",
       "\n",
       "       label_8  label_9  \n",
       "0            0        0  \n",
       "1            0        0  \n",
       "2            0        0  \n",
       "3            0        0  \n",
       "4            0        0  \n",
       "...        ...      ...  \n",
       "41995        0        0  \n",
       "41996        0        0  \n",
       "41997        0        0  \n",
       "41998        0        0  \n",
       "41999        0        1  \n",
       "\n",
       "[42000 rows x 10 columns]"
      ]
     },
     "execution_count": 60,
     "metadata": {},
     "output_type": "execute_result"
    }
   ],
   "source": [
    "#y variale for dependent feature\n",
    "y= digits.iloc[: , -10:]\n",
    "y"
   ]
  },
  {
   "cell_type": "code",
   "execution_count": 61,
   "id": "24dca47d",
   "metadata": {},
   "outputs": [],
   "source": [
    "x= digits.iloc[:,:-10]"
   ]
  },
  {
   "cell_type": "code",
   "execution_count": 62,
   "id": "b2bfed25",
   "metadata": {},
   "outputs": [
    {
     "data": {
      "text/html": [
       "<div>\n",
       "<style scoped>\n",
       "    .dataframe tbody tr th:only-of-type {\n",
       "        vertical-align: middle;\n",
       "    }\n",
       "\n",
       "    .dataframe tbody tr th {\n",
       "        vertical-align: top;\n",
       "    }\n",
       "\n",
       "    .dataframe thead th {\n",
       "        text-align: right;\n",
       "    }\n",
       "</style>\n",
       "<table border=\"1\" class=\"dataframe\">\n",
       "  <thead>\n",
       "    <tr style=\"text-align: right;\">\n",
       "      <th></th>\n",
       "      <th>pixel0</th>\n",
       "      <th>pixel1</th>\n",
       "      <th>pixel2</th>\n",
       "      <th>pixel3</th>\n",
       "      <th>pixel4</th>\n",
       "      <th>pixel5</th>\n",
       "      <th>pixel6</th>\n",
       "      <th>pixel7</th>\n",
       "      <th>pixel8</th>\n",
       "      <th>pixel9</th>\n",
       "      <th>...</th>\n",
       "      <th>pixel774</th>\n",
       "      <th>pixel775</th>\n",
       "      <th>pixel776</th>\n",
       "      <th>pixel777</th>\n",
       "      <th>pixel778</th>\n",
       "      <th>pixel779</th>\n",
       "      <th>pixel780</th>\n",
       "      <th>pixel781</th>\n",
       "      <th>pixel782</th>\n",
       "      <th>pixel783</th>\n",
       "    </tr>\n",
       "  </thead>\n",
       "  <tbody>\n",
       "    <tr>\n",
       "      <th>0</th>\n",
       "      <td>0</td>\n",
       "      <td>0</td>\n",
       "      <td>0</td>\n",
       "      <td>0</td>\n",
       "      <td>0</td>\n",
       "      <td>0</td>\n",
       "      <td>0</td>\n",
       "      <td>0</td>\n",
       "      <td>0</td>\n",
       "      <td>0</td>\n",
       "      <td>...</td>\n",
       "      <td>0</td>\n",
       "      <td>0</td>\n",
       "      <td>0</td>\n",
       "      <td>0</td>\n",
       "      <td>0</td>\n",
       "      <td>0</td>\n",
       "      <td>0</td>\n",
       "      <td>0</td>\n",
       "      <td>0</td>\n",
       "      <td>0</td>\n",
       "    </tr>\n",
       "    <tr>\n",
       "      <th>1</th>\n",
       "      <td>0</td>\n",
       "      <td>0</td>\n",
       "      <td>0</td>\n",
       "      <td>0</td>\n",
       "      <td>0</td>\n",
       "      <td>0</td>\n",
       "      <td>0</td>\n",
       "      <td>0</td>\n",
       "      <td>0</td>\n",
       "      <td>0</td>\n",
       "      <td>...</td>\n",
       "      <td>0</td>\n",
       "      <td>0</td>\n",
       "      <td>0</td>\n",
       "      <td>0</td>\n",
       "      <td>0</td>\n",
       "      <td>0</td>\n",
       "      <td>0</td>\n",
       "      <td>0</td>\n",
       "      <td>0</td>\n",
       "      <td>0</td>\n",
       "    </tr>\n",
       "    <tr>\n",
       "      <th>2</th>\n",
       "      <td>0</td>\n",
       "      <td>0</td>\n",
       "      <td>0</td>\n",
       "      <td>0</td>\n",
       "      <td>0</td>\n",
       "      <td>0</td>\n",
       "      <td>0</td>\n",
       "      <td>0</td>\n",
       "      <td>0</td>\n",
       "      <td>0</td>\n",
       "      <td>...</td>\n",
       "      <td>0</td>\n",
       "      <td>0</td>\n",
       "      <td>0</td>\n",
       "      <td>0</td>\n",
       "      <td>0</td>\n",
       "      <td>0</td>\n",
       "      <td>0</td>\n",
       "      <td>0</td>\n",
       "      <td>0</td>\n",
       "      <td>0</td>\n",
       "    </tr>\n",
       "    <tr>\n",
       "      <th>3</th>\n",
       "      <td>0</td>\n",
       "      <td>0</td>\n",
       "      <td>0</td>\n",
       "      <td>0</td>\n",
       "      <td>0</td>\n",
       "      <td>0</td>\n",
       "      <td>0</td>\n",
       "      <td>0</td>\n",
       "      <td>0</td>\n",
       "      <td>0</td>\n",
       "      <td>...</td>\n",
       "      <td>0</td>\n",
       "      <td>0</td>\n",
       "      <td>0</td>\n",
       "      <td>0</td>\n",
       "      <td>0</td>\n",
       "      <td>0</td>\n",
       "      <td>0</td>\n",
       "      <td>0</td>\n",
       "      <td>0</td>\n",
       "      <td>0</td>\n",
       "    </tr>\n",
       "    <tr>\n",
       "      <th>4</th>\n",
       "      <td>0</td>\n",
       "      <td>0</td>\n",
       "      <td>0</td>\n",
       "      <td>0</td>\n",
       "      <td>0</td>\n",
       "      <td>0</td>\n",
       "      <td>0</td>\n",
       "      <td>0</td>\n",
       "      <td>0</td>\n",
       "      <td>0</td>\n",
       "      <td>...</td>\n",
       "      <td>0</td>\n",
       "      <td>0</td>\n",
       "      <td>0</td>\n",
       "      <td>0</td>\n",
       "      <td>0</td>\n",
       "      <td>0</td>\n",
       "      <td>0</td>\n",
       "      <td>0</td>\n",
       "      <td>0</td>\n",
       "      <td>0</td>\n",
       "    </tr>\n",
       "  </tbody>\n",
       "</table>\n",
       "<p>5 rows × 784 columns</p>\n",
       "</div>"
      ],
      "text/plain": [
       "   pixel0  pixel1  pixel2  pixel3  pixel4  pixel5  pixel6  pixel7  pixel8  \\\n",
       "0       0       0       0       0       0       0       0       0       0   \n",
       "1       0       0       0       0       0       0       0       0       0   \n",
       "2       0       0       0       0       0       0       0       0       0   \n",
       "3       0       0       0       0       0       0       0       0       0   \n",
       "4       0       0       0       0       0       0       0       0       0   \n",
       "\n",
       "   pixel9  ...  pixel774  pixel775  pixel776  pixel777  pixel778  pixel779  \\\n",
       "0       0  ...         0         0         0         0         0         0   \n",
       "1       0  ...         0         0         0         0         0         0   \n",
       "2       0  ...         0         0         0         0         0         0   \n",
       "3       0  ...         0         0         0         0         0         0   \n",
       "4       0  ...         0         0         0         0         0         0   \n",
       "\n",
       "   pixel780  pixel781  pixel782  pixel783  \n",
       "0         0         0         0         0  \n",
       "1         0         0         0         0  \n",
       "2         0         0         0         0  \n",
       "3         0         0         0         0  \n",
       "4         0         0         0         0  \n",
       "\n",
       "[5 rows x 784 columns]"
      ]
     },
     "execution_count": 62,
     "metadata": {},
     "output_type": "execute_result"
    }
   ],
   "source": [
    "x.head()"
   ]
  },
  {
   "cell_type": "code",
   "execution_count": 12,
   "id": "48dcd666",
   "metadata": {},
   "outputs": [
    {
     "data": {
      "text/plain": [
       "1    4684\n",
       "7    4401\n",
       "3    4351\n",
       "9    4188\n",
       "2    4177\n",
       "6    4137\n",
       "0    4132\n",
       "4    4072\n",
       "8    4063\n",
       "5    3795\n",
       "Name: label, dtype: int64"
      ]
     },
     "execution_count": 12,
     "metadata": {},
     "output_type": "execute_result"
    }
   ],
   "source": [
    "#uniwue values and frequencies of target variable\n",
    "y.value_counts()"
   ]
  },
  {
   "cell_type": "code",
   "execution_count": 18,
   "id": "f15ba27f",
   "metadata": {},
   "outputs": [
    {
     "data": {
      "text/plain": [
       "pixel0      0\n",
       "pixel1      0\n",
       "pixel2      0\n",
       "pixel3      0\n",
       "pixel4      0\n",
       "           ..\n",
       "pixel779    0\n",
       "pixel780    0\n",
       "pixel781    0\n",
       "pixel782    0\n",
       "pixel783    0\n",
       "Length: 784, dtype: int64"
      ]
     },
     "execution_count": 18,
     "metadata": {},
     "output_type": "execute_result"
    }
   ],
   "source": [
    "digits.info\n",
    "digits.isnull().sum()"
   ]
  },
  {
   "cell_type": "code",
   "execution_count": 63,
   "id": "e1275f4a",
   "metadata": {},
   "outputs": [
    {
     "data": {
      "text/plain": [
       "(42000, 794)"
      ]
     },
     "execution_count": 63,
     "metadata": {},
     "output_type": "execute_result"
    }
   ],
   "source": [
    "digits.shape"
   ]
  },
  {
   "cell_type": "code",
   "execution_count": 65,
   "id": "415d4e25",
   "metadata": {},
   "outputs": [
    {
     "name": "stdout",
     "output_type": "stream",
     "text": [
      "(42000, 10)\n"
     ]
    }
   ],
   "source": [
    "print(y.shape)"
   ]
  },
  {
   "cell_type": "markdown",
   "id": "a119e4fa",
   "metadata": {},
   "source": [
    "Scaling and normalizing each pixel value by dividing by 255.0 as every value is between 0 and 255 and converting to float32 for Keras to work properly."
   ]
  },
  {
   "cell_type": "code",
   "execution_count": 66,
   "id": "093c790f",
   "metadata": {},
   "outputs": [],
   "source": [
    "x_scaled= x.values/255.0"
   ]
  },
  {
   "cell_type": "code",
   "execution_count": 67,
   "id": "08d87c0a",
   "metadata": {},
   "outputs": [
    {
     "data": {
      "text/plain": [
       "(42000, 784)"
      ]
     },
     "execution_count": 67,
     "metadata": {},
     "output_type": "execute_result"
    }
   ],
   "source": [
    "x_scaled.shape"
   ]
  },
  {
   "cell_type": "code",
   "execution_count": 68,
   "id": "c1a8bb1a",
   "metadata": {},
   "outputs": [],
   "source": [
    "x_sclaed=x_scaled.astype('float32')"
   ]
  },
  {
   "cell_type": "code",
   "execution_count": 69,
   "id": "b4be3ee6",
   "metadata": {},
   "outputs": [],
   "source": [
    "y=y.astype('float32')"
   ]
  },
  {
   "cell_type": "code",
   "execution_count": 77,
   "id": "63d8d8ae",
   "metadata": {},
   "outputs": [],
   "source": [
    "y_ = pd.DataFrame.to_numpy(y)"
   ]
  },
  {
   "cell_type": "code",
   "execution_count": 78,
   "id": "cea6f708",
   "metadata": {},
   "outputs": [
    {
     "data": {
      "text/plain": [
       "array([[0., 1., 0., ..., 0., 0., 0.],\n",
       "       [1., 0., 0., ..., 0., 0., 0.],\n",
       "       [0., 1., 0., ..., 0., 0., 0.],\n",
       "       ...,\n",
       "       [0., 0., 0., ..., 1., 0., 0.],\n",
       "       [0., 0., 0., ..., 0., 0., 0.],\n",
       "       [0., 0., 0., ..., 0., 0., 1.]], dtype=float32)"
      ]
     },
     "execution_count": 78,
     "metadata": {},
     "output_type": "execute_result"
    }
   ],
   "source": [
    "y_"
   ]
  },
  {
   "cell_type": "code",
   "execution_count": 79,
   "id": "602be7b4",
   "metadata": {},
   "outputs": [],
   "source": [
    "#Splitting into train and test.\n",
    "\n",
    "from sklearn.model_selection import train_test_split\n",
    "\n",
    "x_train, x_test, y_train, y_test= train_test_split(x_scaled, y_, test_size=0.2, random_state=2)"
   ]
  },
  {
   "cell_type": "code",
   "execution_count": 81,
   "id": "fcf15888",
   "metadata": {},
   "outputs": [
    {
     "data": {
      "text/plain": [
       "[(33600, 784), (33600, 10), (8400, 784), (8400, 10)]"
      ]
     },
     "execution_count": 81,
     "metadata": {},
     "output_type": "execute_result"
    }
   ],
   "source": [
    "[i.shape for i in (x_train,y_train,x_test,y_test)]"
   ]
  },
  {
   "cell_type": "markdown",
   "id": "23b30d47",
   "metadata": {},
   "source": [
    "#### Building Model and Tuning Hyperparameters"
   ]
  },
  {
   "cell_type": "code",
   "execution_count": 104,
   "id": "93613d5c",
   "metadata": {},
   "outputs": [],
   "source": [
    "from tensorflow import keras\n",
    "from tensorflow.keras.models import Sequential\n",
    "#from tensorflow.keras.layers.core import Dense, Activation"
   ]
  },
  {
   "cell_type": "code",
   "execution_count": 105,
   "id": "792038f5",
   "metadata": {},
   "outputs": [],
   "source": [
    "from tensorflow.keras.layers import Dense, Flatten, Dropout"
   ]
  },
  {
   "cell_type": "code",
   "execution_count": 106,
   "id": "5498ebdb",
   "metadata": {},
   "outputs": [],
   "source": [
    "from kerastuner import HyperModel #It will help tuning HyperParameters"
   ]
  },
  {
   "cell_type": "markdown",
   "id": "d6cc5d1a",
   "metadata": {},
   "source": [
    "Hyperparameter tuning is heart of  ANN model and it directly affects the performance of the model. We can tune hyperparameters such as:\n",
    "\n",
    "Learning Rate : It determines how quick the model will learn. It should be selected carefully. If it is small, the model speed will be very slow which means the derivative \n",
    "of loss function goes to its minimum point very slowly. If it is very high, the derivative of the loss fucntion cannot reach to its global minimum point. \n",
    "Therefore I preffered to choose its values as 1e-2, 1e-3, 1e-4.\n",
    "\n",
    "The number of nodes: Nodes are points of the Layers on ANN. We need to optimize them and it is very general that they can be choosen as 32,64,128,256 and 512. \n",
    "\n",
    "The number of layer: It determines the complexity of the ANN model like the nodes. If you choose very high number, it can result in \"BİAS\". If you choose very small like 2,\n",
    "it may not be good to solve complex and non-linear problems. We use dense function to create layers.\n",
    "\n",
    "Activation function: Normally ANN is the linear method (Z=W*X+b), but we use activation function to make ANN non-linear. The most famous activation functions are relu and \n",
    "tanh for layers. If you use binary classification, you need to use \"sigmoid\" funcion. If you classify more than 2 classes, you need to use \"softmax\" function.\n",
    "\n",
    "L2 Regularization: Regularization is used to reduce \"VARİANCE\" problem. One of the regularization techniques is L2 that is added to loss function to punish the weights.\n",
    "By doing this weights getting closer to zero which reduces the model complexity.\n",
    "\n",
    "Dropout: It is another regularization techniues. It is based on to close some of nodes randomly in determined layers. It uses \"BERNOULLİ PROBABLİTY\" to determine which nodes \n",
    "is getting closed. It is very effective like L2 regularization. It is very commen to use both L2 and Dropout regularization.\n",
    "\n",
    "Adam optimazation: There are different optimazation methods like \"momentum\" and \"RMSProp\" to speed the model and increase the model performance. \"ADAM\" optimization technique\n",
    "uses noth momentum and RMSProp(Root Mean Square Prop)\n",
    "\n",
    "Batch-size : It is based on to divide data into small datasets and train them. It increase the performance beside speeding model training time. Exponentially weighted avarages \n",
    "statistical technique is used to calculate avarage loss on this technique. "
   ]
  },
  {
   "cell_type": "code",
   "execution_count": 120,
   "id": "70c3608a",
   "metadata": {},
   "outputs": [],
   "source": [
    "# subclassing HyperModel class of keras Tuner API\n",
    "    \n",
    "class AnnHyperModel(HyperModel): \n",
    "    def __init__(self, input_shape):\n",
    "        self.input_shape = input_shape\n",
    "        \n",
    "        \n",
    "    def build(self, hp):\n",
    "        model = Sequential()\n",
    "        model.add(\n",
    "            layers.Dense(\n",
    "                units=hp.Int('units', 8, 64, 4, default=8), \n",
    "                activation=hp.Choice(\n",
    "                    'dense_activation', \n",
    "                    values=['relu', 'tanh', 'elu'],\n",
    "                    default='relu'), \n",
    "                activity_regularizer=tf.keras.regularizers.l2(0.001),\n",
    "                input_shape=input_shape) )\n",
    "        \n",
    "        model.add( \n",
    "            layers.Dense(\n",
    "            units=hp.Int('units', 8, 64, 4, default=16), \n",
    "            activation=hp.Choice(\n",
    "                'dense_activation', \n",
    "                values=['relu', 'tanh', 'elu'], \n",
    "                default='relu')))\n",
    "\n",
    "        model.add( \n",
    "            layers.Dropout(\n",
    "                hp.Float( \n",
    "                    'dropout',\n",
    "                    min_value=0.0, \n",
    "                    max_value=0.1, \n",
    "                    default=0.005, \n",
    "                    step=0.01)))\n",
    "        \n",
    "    \n",
    "        model.add(layers.Dense(10,activation = \"softmax\"))\n",
    "        \n",
    "        model.compile(\n",
    "            optimizer=keras.optimizers.Adam(\n",
    "            hp.Choice('learning_rate',\n",
    "                      values=[1e-2, 1e-3, 1e-4]),\n",
    "                      beta_1=0.9,\n",
    "                      beta_2=0.999,\n",
    "                      epsilon=1e-07)\n",
    "            ,loss='mse',\n",
    "            metrics=['accuracy'] )\n",
    "\n",
    "        return model"
   ]
  },
  {
   "cell_type": "code",
   "execution_count": 121,
   "id": "c3112c55",
   "metadata": {},
   "outputs": [
    {
     "data": {
      "text/plain": [
       "784"
      ]
     },
     "execution_count": 121,
     "metadata": {},
     "output_type": "execute_result"
    }
   ],
   "source": [
    "x_train.shape[1]"
   ]
  },
  {
   "cell_type": "code",
   "execution_count": 122,
   "id": "f958511b",
   "metadata": {},
   "outputs": [],
   "source": [
    "# Ceate the object from the class\n",
    "input_shape = (x_train.shape[1],)\n",
    "hypermodel = AnnHyperModel(input_shape)"
   ]
  },
  {
   "cell_type": "code",
   "execution_count": 123,
   "id": "279addc2",
   "metadata": {},
   "outputs": [
    {
     "name": "stdout",
     "output_type": "stream",
     "text": [
      "INFO:tensorflow:Reloading Oracle from existing project .\\untitled_project\\oracle.json\n"
     ]
    }
   ],
   "source": [
    "from keras_tuner.tuners import RandomSearch\n",
    "# randomsearch for doing hyperparameter search(one of the keras tuner)\n",
    "\n",
    "tuner_rs = RandomSearch( hypermodel,\n",
    "                        objective='val_accuracy', \n",
    "                        seed=42, \n",
    "                        max_trials=12)"
   ]
  },
  {
   "cell_type": "markdown",
   "id": "38e3166e",
   "metadata": {},
   "source": [
    "###### Summary of Search space"
   ]
  },
  {
   "cell_type": "code",
   "execution_count": 124,
   "id": "a615beda",
   "metadata": {},
   "outputs": [
    {
     "name": "stdout",
     "output_type": "stream",
     "text": [
      "Search space summary\n",
      "Default search space size: 4\n",
      "units (Int)\n",
      "{'default': 8, 'conditions': [], 'min_value': 8, 'max_value': 64, 'step': 4, 'sampling': None}\n",
      "dense_activation (Choice)\n",
      "{'default': 'relu', 'conditions': [], 'values': ['relu', 'tanh', 'elu'], 'ordered': False}\n",
      "dropout (Float)\n",
      "{'default': 0.005, 'conditions': [], 'min_value': 0.0, 'max_value': 0.1, 'step': 0.01, 'sampling': None}\n",
      "learning_rate (Choice)\n",
      "{'default': 0.01, 'conditions': [], 'values': [0.01, 0.001, 0.0001], 'ordered': True}\n"
     ]
    }
   ],
   "source": [
    "tuner_rs.search_space_summary()"
   ]
  },
  {
   "cell_type": "markdown",
   "id": "906a89bf",
   "metadata": {},
   "source": [
    "##### Fitting model to find best model"
   ]
  },
  {
   "cell_type": "code",
   "execution_count": 126,
   "id": "79da3761",
   "metadata": {},
   "outputs": [
    {
     "name": "stdout",
     "output_type": "stream",
     "text": [
      "Trial 13 Complete [00h 00m 32s]\n",
      "val_accuracy: 0.82833331823349\n",
      "\n",
      "Best val_accuracy So Far: 0.9551190733909607\n",
      "Total elapsed time: 00h 09m 21s\n",
      "INFO:tensorflow:Oracle triggered exit\n"
     ]
    }
   ],
   "source": [
    "tuner_rs.search(x_train,y_train,epochs=10,validation_data=(x_test, y_test) )"
   ]
  },
  {
   "cell_type": "code",
   "execution_count": 174,
   "id": "116197b0",
   "metadata": {},
   "outputs": [
    {
     "name": "stdout",
     "output_type": "stream",
     "text": [
      "263/263 [==============================] - 1s 1ms/step - loss: 0.0093 - accuracy: 0.9551\n",
      "0.009337542578577995 0.9551190733909607\n"
     ]
    }
   ],
   "source": [
    "#choosing best model among the models\n",
    "best_model = tuner_rs.get_best_models(num_models=1)[0]\n",
    "loss,mse= best_model.evaluate(x_test,y_test)\n",
    "print(loss,mse)"
   ]
  },
  {
   "cell_type": "code",
   "execution_count": 128,
   "id": "949f7f2c",
   "metadata": {},
   "outputs": [
    {
     "data": {
      "text/plain": [
       "[<tensorflow.python.keras.layers.core.Dense at 0x26435bc7310>,\n",
       " <tensorflow.python.keras.layers.core.Dense at 0x2643a7bf9d0>,\n",
       " <tensorflow.python.keras.layers.core.Dropout at 0x26496a23670>,\n",
       " <tensorflow.python.keras.layers.core.Dense at 0x26496a23d90>]"
      ]
     },
     "execution_count": 128,
     "metadata": {},
     "output_type": "execute_result"
    }
   ],
   "source": [
    "#show layers of the model\n",
    "best_model.layers"
   ]
  },
  {
   "cell_type": "code",
   "execution_count": 129,
   "id": "e366dd6f",
   "metadata": {},
   "outputs": [
    {
     "data": {
      "text/plain": [
       "[<tf.Variable 'dense/kernel:0' shape=(784, 44) dtype=float32, numpy=\n",
       " array([[-0.06263542,  0.04531138, -0.0748824 , ...,  0.01153156,\n",
       "          0.01775699,  0.08125643],\n",
       "        [-0.04914296,  0.00234093, -0.03429755, ..., -0.04680659,\n",
       "          0.08407092,  0.00454393],\n",
       "        [ 0.02987475,  0.02771106, -0.02359401, ..., -0.06580382,\n",
       "         -0.05348879, -0.02779204],\n",
       "        ...,\n",
       "        [ 0.04090622,  0.06988665, -0.0724809 , ..., -0.05513179,\n",
       "         -0.05573845, -0.04813696],\n",
       "        [ 0.0077439 , -0.08369192, -0.01565094, ...,  0.02709211,\n",
       "          0.02910966,  0.00770351],\n",
       "        [-0.0163511 , -0.05442271,  0.05490044, ..., -0.03002822,\n",
       "         -0.08381375,  0.01675011]], dtype=float32)>,\n",
       " <tf.Variable 'dense/bias:0' shape=(44,) dtype=float32, numpy=\n",
       " array([-0.09811703,  0.06942645,  0.04843093, -0.04841722, -0.2773593 ,\n",
       "         0.0653546 ,  0.11984874,  0.05258157, -0.04089143, -0.07047771,\n",
       "        -0.14025517, -0.01583971, -0.00043606,  0.01668673,  0.07405388,\n",
       "         0.16150774, -0.07436657,  0.00899049,  0.0136805 ,  0.00956747,\n",
       "        -0.03521816, -0.12553628,  0.0488769 ,  0.09619506,  0.06709131,\n",
       "         0.04501742, -0.11986641, -0.06995585, -0.02073383,  0.13680756,\n",
       "         0.11056337, -0.10722839, -0.05036013,  0.05074627, -0.03061778,\n",
       "        -0.07094395,  0.04682599,  0.20735927, -0.16736731, -0.04693383,\n",
       "         0.03935509,  0.01260137,  0.01303629, -0.01527693], dtype=float32)>,\n",
       " <tf.Variable 'dense_1/kernel:0' shape=(44, 44) dtype=float32, numpy=\n",
       " array([[ 0.1591016 ,  0.2502256 , -0.28215775, ..., -0.11298324,\n",
       "         -0.14773677,  0.03161736],\n",
       "        [-0.15583782, -0.56337076, -0.25375274, ...,  0.42632967,\n",
       "          0.17530842,  0.4447921 ],\n",
       "        [-0.10390586,  0.01015919,  0.45237973, ...,  0.06009702,\n",
       "         -0.25237703,  0.03881297],\n",
       "        ...,\n",
       "        [-0.3158832 , -0.44129476, -0.2287732 , ...,  0.5390367 ,\n",
       "          0.47753987, -0.6508089 ],\n",
       "        [-0.09532358, -0.01276774,  0.11093457, ...,  0.35189313,\n",
       "         -0.35303214, -0.15440927],\n",
       "        [ 0.4738974 , -0.0163091 ,  0.3965928 , ...,  0.42466933,\n",
       "         -0.44218367, -0.15367588]], dtype=float32)>,\n",
       " <tf.Variable 'dense_1/bias:0' shape=(44,) dtype=float32, numpy=\n",
       " array([0.26740924, 0.29265124, 0.05860014, 0.21549675, 0.27362   ,\n",
       "        0.1293119 , 0.2798731 , 0.12760344, 0.02998201, 0.18456131,\n",
       "        0.154452  , 0.1984792 , 0.14639524, 0.20942877, 0.30627084,\n",
       "        0.28925818, 0.32581922, 0.29947335, 0.3608642 , 0.08436708,\n",
       "        0.3260323 , 0.22502623, 0.12088044, 0.22042169, 0.17566934,\n",
       "        0.12917982, 0.16820136, 0.28696486, 0.00367826, 0.11533331,\n",
       "        0.2934757 , 0.29426172, 0.39301136, 0.07483263, 0.17246203,\n",
       "        0.19403711, 0.23948082, 0.15819252, 0.30202255, 0.13062139,\n",
       "        0.25477102, 0.18180762, 0.32630694, 0.32617566], dtype=float32)>,\n",
       " <tf.Variable 'dense_2/kernel:0' shape=(44, 10) dtype=float32, numpy=\n",
       " array([[-0.6268689 ,  0.32174036,  0.6303707 ,  0.25331965, -0.5013379 ,\n",
       "         -0.8901364 ,  0.12210786, -0.27666616,  0.48781314, -0.61074275],\n",
       "        [-0.36175045, -0.654465  ,  0.3834933 ,  0.22890916, -1.0858344 ,\n",
       "          0.27481622, -0.84136665,  0.3178352 ,  0.45115668, -0.28207597],\n",
       "        [-0.7992102 , -0.13961852,  0.48659813,  0.18139455, -0.57964396,\n",
       "          0.03319383,  0.18883981,  0.42316788, -1.0681456 , -0.7337085 ],\n",
       "        [ 0.43620878, -0.7683704 ,  0.35047197, -1.008088  ,  0.47855353,\n",
       "         -0.23124565, -0.70512897,  0.61233294, -0.5332338 ,  0.24557795],\n",
       "        [-0.57488936, -1.0020403 , -0.17245024,  0.41940078, -0.21216664,\n",
       "          0.4022783 , -0.8346244 , -0.81031996,  0.57207483,  0.20526002],\n",
       "        [-1.0193707 ,  0.37739637, -0.47052988, -0.71570545, -0.10410546,\n",
       "          0.3132365 , -0.86150634,  0.3797147 , -0.2744694 ,  0.39106306],\n",
       "        [ 0.37861088, -0.79955006,  0.424752  ,  0.40076807, -0.79335815,\n",
       "          0.53474444,  0.419859  , -1.0040616 ,  0.29717228, -0.31853855],\n",
       "        [-1.0227014 , -0.43694782, -0.5158386 ,  0.55325603, -0.34326687,\n",
       "          0.37378448,  0.36996284,  0.2905661 , -0.7063082 ,  0.37364587],\n",
       "        [-0.45662042,  0.5038442 ,  0.5342843 ,  0.41520962, -0.37168944,\n",
       "         -0.26928598, -0.47617602, -0.09147818, -0.85376865, -1.1167226 ],\n",
       "        [-0.72662985, -0.4314024 , -0.45710772, -0.21659778,  0.2490832 ,\n",
       "          0.5091604 ,  0.6095113 , -0.778675  , -0.12482474,  0.34620905],\n",
       "        [ 0.65795195,  0.35049674, -1.0172913 , -0.01341269, -0.52949166,\n",
       "          0.5274775 , -0.38408414, -0.79923767, -0.6796895 , -0.10113556],\n",
       "        [-0.81028664,  0.49777773, -0.92092013,  0.22695474, -0.7280501 ,\n",
       "          0.44675136, -0.5348641 , -0.15889302,  0.2674098 , -0.5494821 ],\n",
       "        [ 0.267786  ,  0.34824243,  0.38070586, -0.4642492 , -0.84054875,\n",
       "         -0.52278215,  0.28942683,  0.5458835 , -0.89247435,  0.2720732 ],\n",
       "        [ 0.5095751 , -0.7274414 ,  0.6716662 , -0.4226062 , -0.6033305 ,\n",
       "         -0.5581848 ,  0.126577  , -0.90978175, -0.35697612,  0.17592068],\n",
       "        [-0.43470928,  0.51619637, -0.60262567, -0.51738274, -0.50025964,\n",
       "         -0.36910793,  0.26849598, -0.5757165 ,  0.72542655,  0.65930915],\n",
       "        [ 0.4205374 , -0.64119184,  0.0125637 ,  0.20326997, -0.5681003 ,\n",
       "         -0.35601315,  0.6250363 ,  0.3084769 , -0.34882587,  0.08058269],\n",
       "        [-0.3990917 , -0.42784548, -0.93721044,  0.19547786,  0.6068185 ,\n",
       "         -0.9077653 , -0.7443393 ,  0.28117147,  0.11395069,  0.42826653],\n",
       "        [ 0.41539574, -1.0227683 , -0.80339825,  0.46423188, -0.698686  ,\n",
       "          0.3749219 , -0.6559989 ,  0.04424421,  0.0725285 ,  0.57952374],\n",
       "        [ 0.3375437 ,  0.16273966, -0.38498658,  0.30826947, -0.880518  ,\n",
       "         -0.41858813, -0.64964235, -0.5800963 ,  0.4685602 , -0.82364887],\n",
       "        [-0.9923602 ,  0.34097618, -0.18988763,  0.6322838 ,  0.20555836,\n",
       "         -0.09034007, -1.0487428 , -0.19881743, -1.1364691 ,  0.5566613 ],\n",
       "        [ 0.09861411, -0.5375432 , -0.39884984, -0.9198308 ,  0.22556454,\n",
       "          0.21098962,  0.5295406 , -0.7815927 ,  0.4705976 ,  0.24137369],\n",
       "        [ 0.57020324, -0.9126796 ,  0.46621257,  0.43309298,  0.2719408 ,\n",
       "          0.13853222, -0.86752206, -0.48116064, -0.02403311, -0.18733129],\n",
       "        [-0.95513403, -0.80580074, -0.50226057,  0.12880634,  0.1561131 ,\n",
       "          0.33925515, -0.6202894 ,  0.3663792 , -0.7730134 ,  0.10160178],\n",
       "        [ 0.583011  , -0.6580752 , -0.297562  , -0.916672  ,  0.53634286,\n",
       "          0.30847898, -0.04639289, -0.4858974 , -0.3336329 ,  0.19267601],\n",
       "        [-0.7110971 ,  0.3650045 , -1.0489755 , -0.2196266 , -0.70320547,\n",
       "          0.27705413, -0.8144721 ,  0.16135982, -0.13642338,  0.28410828],\n",
       "        [ 0.46563134,  0.52946377, -0.28838798, -0.8722286 ,  0.61099046,\n",
       "         -0.5039977 ,  0.4758045 , -0.42596966, -1.1008868 , -0.1390809 ],\n",
       "        [-0.6766528 ,  0.43301094,  0.5091955 , -0.40914655, -0.32929143,\n",
       "         -0.79047865, -0.6799163 ,  0.37691036, -0.04149973, -0.31635198],\n",
       "        [-0.39095008,  0.5994121 , -0.53766227, -0.26401314, -0.72253305,\n",
       "         -0.6301953 , -0.61761856,  0.18434726,  0.4272879 ,  0.37435284],\n",
       "        [-0.53246456,  0.59065145,  0.19654968,  0.22091101, -0.6473268 ,\n",
       "          0.48586482,  0.05764204, -0.62152946, -1.1883059 , -0.50038064],\n",
       "        [-0.5034016 ,  0.19254936,  0.3609897 ,  0.51189303, -0.68560684,\n",
       "          0.40858582, -0.96140516,  0.48224962, -0.1371627 , -0.91338706],\n",
       "        [ 0.5977556 , -0.24206881, -0.71607697, -0.25202188,  0.29301602,\n",
       "          0.35693648,  0.47500622, -1.0337496 , -0.064528  , -0.6711928 ],\n",
       "        [-0.52205175, -0.7920329 ,  0.17683809,  0.254591  ,  0.544906  ,\n",
       "         -1.2334305 , -0.9556353 ,  0.4924964 ,  0.0311522 ,  0.05969072],\n",
       "        [ 0.32191792, -0.2953923 , -1.0023609 , -1.1333492 , -0.10189117,\n",
       "         -0.21726686,  0.3137092 ,  0.37597486, -0.20972371, -0.36254   ],\n",
       "        [-0.77656144, -0.61751395,  0.4517694 ,  0.19400838, -0.202306  ,\n",
       "          0.08322131,  0.5021057 ,  0.5674186 , -0.55105066, -1.0264432 ],\n",
       "        [-0.5445085 , -0.8247361 ,  0.19322442, -0.6983506 ,  0.0139087 ,\n",
       "          0.42488065,  0.5084105 , -0.6539406 ,  0.15161681,  0.4858457 ],\n",
       "        [-0.68864435,  0.2455065 , -0.24242881,  0.39982498,  0.7244764 ,\n",
       "         -0.50102884, -0.8224776 , -0.09566978,  0.25572112, -0.78726727],\n",
       "        [-0.629676  ,  0.43194866, -0.47840372, -0.83497703,  0.22453876,\n",
       "          0.47795534,  0.42120412, -0.72341   ,  0.3450953 , -0.66535497],\n",
       "        [ 0.42938542,  0.08915947,  0.08377445,  0.49885008, -0.26869586,\n",
       "         -0.5131915 , -0.8698979 , -0.57805294, -0.51746815, -0.51250356],\n",
       "        [ 0.07201733,  0.23757978,  0.6328074 , -0.47792992, -0.36439964,\n",
       "         -0.25989166,  0.49118468, -0.33857474,  0.65432453, -0.89407694],\n",
       "        [-0.58751434,  0.62308645, -0.00358273,  0.09773692,  0.8855653 ,\n",
       "         -0.93042815, -0.56244516, -0.7370059 , -0.4523028 , -0.09377436],\n",
       "        [ 0.1239138 ,  0.49092585, -0.14583273,  0.06100767, -0.65594596,\n",
       "         -0.5815414 ,  0.1133379 ,  0.36382377,  0.51203257, -0.66076934],\n",
       "        [ 0.40755853,  0.39373133,  0.29923576, -0.8542424 ,  0.56697726,\n",
       "         -0.6127114 ,  0.37677398, -0.1283139 , -0.52144957, -0.95678663],\n",
       "        [ 0.7217675 , -0.2425689 , -0.62555295, -0.5555198 , -0.00602982,\n",
       "         -0.99757457, -0.61335903, -0.35479316, -0.29625505,  0.68308663],\n",
       "        [-0.7073154 , -0.987454  ,  0.3320109 , -0.30856237,  0.40006754,\n",
       "         -0.54754305,  0.1357454 , -0.9447472 ,  0.4390198 ,  0.26393703]],\n",
       "       dtype=float32)>,\n",
       " <tf.Variable 'dense_2/bias:0' shape=(10,) dtype=float32, numpy=\n",
       " array([ 0.3274753 , -0.19832799, -0.21982355, -0.05411597, -0.08214843,\n",
       "        -0.1826677 ,  0.07295829,  0.1059239 ,  0.23340046,  0.03068198],\n",
       "       dtype=float32)>]"
      ]
     },
     "execution_count": 129,
     "metadata": {},
     "output_type": "execute_result"
    }
   ],
   "source": [
    "#show weights of the model\n",
    "best_model.weights"
   ]
  },
  {
   "cell_type": "code",
   "execution_count": 131,
   "id": "aa9743aa",
   "metadata": {},
   "outputs": [
    {
     "name": "stdout",
     "output_type": "stream",
     "text": [
      "Model: \"sequential\"\n",
      "_________________________________________________________________\n",
      "Layer (type)                 Output Shape              Param #   \n",
      "=================================================================\n",
      "dense (Dense)                (None, 44)                34540     \n",
      "_________________________________________________________________\n",
      "dense_1 (Dense)              (None, 44)                1980      \n",
      "_________________________________________________________________\n",
      "dropout (Dropout)            (None, 44)                0         \n",
      "_________________________________________________________________\n",
      "dense_2 (Dense)              (None, 10)                450       \n",
      "=================================================================\n",
      "Total params: 36,970\n",
      "Trainable params: 36,970\n",
      "Non-trainable params: 0\n",
      "_________________________________________________________________\n"
     ]
    }
   ],
   "source": [
    "#Summary of the best model\n",
    "best_model.summary()"
   ]
  },
  {
   "cell_type": "code",
   "execution_count": 133,
   "id": "bd0d53cc",
   "metadata": {},
   "outputs": [
    {
     "name": "stdout",
     "output_type": "stream",
     "text": [
      "Epoch 1/10\n",
      "336/336 [==============================] - 2s 3ms/step - loss: 0.0052 - accuracy: 0.9803\n",
      "Epoch 2/10\n",
      "336/336 [==============================] - 1s 2ms/step - loss: 0.0045 - accuracy: 0.9837\n",
      "Epoch 3/10\n",
      "336/336 [==============================] - 1s 2ms/step - loss: 0.0042 - accuracy: 0.9845\n",
      "Epoch 4/10\n",
      "336/336 [==============================] - 1s 3ms/step - loss: 0.0040 - accuracy: 0.9855\n",
      "Epoch 5/10\n",
      "336/336 [==============================] - 1s 2ms/step - loss: 0.0038 - accuracy: 0.9864\n",
      "Epoch 6/10\n",
      "336/336 [==============================] - 1s 4ms/step - loss: 0.0040 - accuracy: 0.9848\n",
      "Epoch 7/10\n",
      "336/336 [==============================] - 1s 2ms/step - loss: 0.0041 - accuracy: 0.9840\n",
      "Epoch 8/10\n",
      "336/336 [==============================] - 1s 2ms/step - loss: 0.0040 - accuracy: 0.9843\n",
      "Epoch 9/10\n",
      "336/336 [==============================] - 1s 2ms/step - loss: 0.0040 - accuracy: 0.9848\n",
      "Epoch 10/10\n",
      "336/336 [==============================] - 1s 2ms/step - loss: 0.0040 - accuracy: 0.9841\n"
     ]
    },
    {
     "data": {
      "text/plain": [
       "<tensorflow.python.keras.callbacks.History at 0x2649059fbe0>"
      ]
     },
     "execution_count": 133,
     "metadata": {},
     "output_type": "execute_result"
    }
   ],
   "source": [
    "# model fitting\n",
    "# batch_size_step = X_train/batch_size \n",
    "best_model.fit(x_train, y_train,\n",
    "          batch_size=100, epochs=10)   # epochs = number of iterations"
   ]
  },
  {
   "cell_type": "code",
   "execution_count": 172,
   "id": "c3bf525b",
   "metadata": {},
   "outputs": [
    {
     "name": "stdout",
     "output_type": "stream",
     "text": [
      "[[5.72151795e-04 1.43536163e-04 1.87523983e-04 ... 2.57512129e-05\n",
      "  4.56654932e-04 2.00557071e-04]\n",
      " [4.89107094e-07 2.76402176e-07 1.96263343e-07 ... 1.68985847e-04\n",
      "  4.11843757e-06 9.92800117e-01]\n",
      " [4.21707558e-10 2.19558416e-08 8.04107270e-09 ... 4.22072510e-08\n",
      "  6.71924694e-09 2.73353589e-06]\n",
      " ...\n",
      " [4.34491980e-08 4.15987688e-06 6.42450977e-05 ... 1.75582613e-06\n",
      "  5.85219588e-08 4.38976855e-08]\n",
      " [2.20294183e-04 1.40872013e-04 1.04570245e-04 ... 6.99141992e-06\n",
      "  1.30251155e-03 3.10806645e-05]\n",
      " [4.12998052e-05 3.43647685e-06 3.06684524e-06 ... 1.20361015e-01\n",
      "  4.32738807e-06 8.79384518e-01]]\n",
      "(8400, 10)\n"
     ]
    }
   ],
   "source": [
    "#making predictions\n",
    "\n",
    "y_pred= best_model.predict(x_test)\n",
    "print(y_pred) #gives probabilities of each class per record\n",
    "print(y_pred.shape)"
   ]
  },
  {
   "cell_type": "code",
   "execution_count": 142,
   "id": "94806809",
   "metadata": {},
   "outputs": [
    {
     "name": "stdout",
     "output_type": "stream",
     "text": [
      "[6 9 5 ... 3 6 9] (8400,)\n",
      "[6 9 5 ... 3 6 9] (8400,)\n"
     ]
    }
   ],
   "source": [
    "#converting predictions into actual output classes\n",
    "y_pred_classes= np.argmax(y_pred,axis=1)\n",
    "print(y_pred_classes,y_pred_classes.shape)\n",
    "\n",
    "#converting y_test into actual output classes to compare with corresponding predictioons\n",
    "y_test_classes= np.argmax(y_test,axis=1)\n",
    "print(y_test_classes,y_test_classes.shape)\n"
   ]
  },
  {
   "cell_type": "markdown",
   "id": "40467bd6",
   "metadata": {},
   "source": [
    "###### Analysing model's performance"
   ]
  },
  {
   "cell_type": "code",
   "execution_count": 146,
   "id": "f714dc52",
   "metadata": {},
   "outputs": [],
   "source": [
    "from sklearn.metrics import confusion_matrix, classification_report"
   ]
  },
  {
   "cell_type": "code",
   "execution_count": 147,
   "id": "9f286319",
   "metadata": {},
   "outputs": [],
   "source": [
    "cmf= confusion_matrix(y_test_classes,y_pred_classes)\n",
    "cr = classification_report(y_test_classes,y_pred_classes)"
   ]
  },
  {
   "cell_type": "code",
   "execution_count": 165,
   "id": "583de938",
   "metadata": {},
   "outputs": [
    {
     "name": "stdout",
     "output_type": "stream",
     "text": [
      "Confusion Matrix is : \n",
      "\n",
      "[[804   1   0   1   0   0   1   0  13   1]\n",
      " [  0 936   6   3   0   0   1   4  11   1]\n",
      " [  1   1 795   6   7   0   1  10   6   2]\n",
      " [  1   2  11 793   1  10   1   8  19  18]\n",
      " [  5   2   3   1 813   0   3   3   6  20]\n",
      " [  5   0   4   9   1 684   1   4  14   7]\n",
      " [ 10   2   5   2   0  11 793   0  16   0]\n",
      " [  1   1   7   1   3   0   0 846   5   9]\n",
      " [  6   2   4   2   0   8   1   3 764   3]\n",
      " [  4   1   0   2  10   5   0  17  17 778]] \n",
      "\n",
      "Classification Report is : \n",
      "\n",
      "              precision    recall  f1-score   support\n",
      "\n",
      "           0       0.96      0.98      0.97       821\n",
      "           1       0.99      0.97      0.98       962\n",
      "           2       0.95      0.96      0.96       829\n",
      "           3       0.97      0.92      0.94       864\n",
      "           4       0.97      0.95      0.96       856\n",
      "           5       0.95      0.94      0.95       729\n",
      "           6       0.99      0.95      0.97       839\n",
      "           7       0.95      0.97      0.96       873\n",
      "           8       0.88      0.96      0.92       793\n",
      "           9       0.93      0.93      0.93       834\n",
      "\n",
      "    accuracy                           0.95      8400\n",
      "   macro avg       0.95      0.95      0.95      8400\n",
      "weighted avg       0.95      0.95      0.95      8400\n",
      "\n"
     ]
    }
   ],
   "source": [
    "print('Confusion Matrix is : \\n\\n{} \\n\\nClassification Report is : \\n\\n{}' .format(cmf,cr))"
   ]
  },
  {
   "cell_type": "code",
   "execution_count": null,
   "id": "b4203f46",
   "metadata": {},
   "outputs": [],
   "source": []
  }
 ],
 "metadata": {
  "kernelspec": {
   "display_name": "Python 3",
   "language": "python",
   "name": "python3"
  },
  "language_info": {
   "codemirror_mode": {
    "name": "ipython",
    "version": 3
   },
   "file_extension": ".py",
   "mimetype": "text/x-python",
   "name": "python",
   "nbconvert_exporter": "python",
   "pygments_lexer": "ipython3",
   "version": "3.9.5"
  }
 },
 "nbformat": 4,
 "nbformat_minor": 5
}
